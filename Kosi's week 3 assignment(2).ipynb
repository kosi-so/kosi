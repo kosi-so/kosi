{
 "cells": [
  {
   "cell_type": "code",
   "execution_count": 2,
   "metadata": {},
   "outputs": [],
   "source": [
    "#import libraries \n",
    "import numpy as np \n",
    "import pandas as pd"
   ]
  },
  {
   "cell_type": "code",
   "execution_count": 3,
   "metadata": {},
   "outputs": [],
   "source": [
    "#load dataset\n",
    "column = ['Population', 'Profit']\n",
    "data = pd.read_csv('ex1data1.txt', names = column)"
   ]
  },
  {
   "cell_type": "code",
   "execution_count": 16,
   "metadata": {},
   "outputs": [
    {
     "data": {
      "text/plain": [
       "(   Population   Profit\n",
       " 0      6.1101  17.5920\n",
       " 1      5.5277   9.1302\n",
       " 2      8.5186  13.6620\n",
       " 3      7.0032  11.8540\n",
       " 4      5.8598   6.8233, (97, 2))"
      ]
     },
     "execution_count": 16,
     "metadata": {},
     "output_type": "execute_result"
    }
   ],
   "source": [
    "data.head(), data.shape"
   ]
  },
  {
   "cell_type": "code",
   "execution_count": 23,
   "metadata": {},
   "outputs": [
    {
     "data": {
      "text/plain": [
       "(97, 1)"
      ]
     },
     "execution_count": 23,
     "metadata": {},
     "output_type": "execute_result"
    }
   ],
   "source": [
    "#divide my data into 'Info' and 'Target'\n",
    "\n",
    "info = data.loc[:, 'Population'].values #Converting to Numpy array\n",
    "target = data.loc[:, 'Profit'].values\n",
    "#reshape my 'info' and 'target' into 2D arrays\n",
    "info = info.reshape(-1, 1)\n",
    "target = target.reshape(-1, 1)\n",
    "info.shape"
   ]
  },
  {
   "cell_type": "code",
   "execution_count": 24,
   "metadata": {},
   "outputs": [],
   "source": [
    "#spliting my data into training sets and testing sets \n",
    "info_train = info[:-3]\n",
    "info_test = info[-3 : ]\n",
    "target_train = target[:-3]\n",
    "target_test = target[-3 : ]"
   ]
  },
  {
   "cell_type": "code",
   "execution_count": 27,
   "metadata": {},
   "outputs": [
    {
     "data": {
      "text/plain": [
       "((94, 1), (3, 1), (94, 1), (3, 1))"
      ]
     },
     "execution_count": 27,
     "metadata": {},
     "output_type": "execute_result"
    }
   ],
   "source": [
    "info_train.shape, info_test.shape, target_train.shape, target_test.shape"
   ]
  },
  {
   "cell_type": "code",
   "execution_count": 28,
   "metadata": {},
   "outputs": [],
   "source": [
    "def estimate():\n",
    "    input_ = float(input('Enter the population size(10,000):  '))\n",
    "    itr = float(input('How many times do you want the program to run:  '))\n",
    "    alph = float(input('Input the learning rate:  '))\n",
    "    \n",
    "    \n",
    "    \n",
    "    #Import Lasso module \n",
    "    from sklearn import linear_model\n",
    "    #create classifier\n",
    "    clf = linear_model.Lasso(alpha = alph, fit_intercept = True, normalize = True, max_iter = itr, warm_start = True)\n",
    "    #train model\n",
    "    clf.fit(info_train, target_train)\n",
    "    #predict the response\n",
    "   \n",
    "\n",
    "    x = np.array([input_],)\n",
    "    x = x.reshape(-1, 1)\n",
    "    \n",
    "    pred = clf.predict(x)\n",
    "    print ('For a population of {}, the estimated profit is ${}'.format(input_, clf.predict(x)))\n",
    "    "
   ]
  },
  {
   "cell_type": "code",
   "execution_count": 30,
   "metadata": {},
   "outputs": [
    {
     "name": "stdout",
     "output_type": "stream",
     "text": [
      "Enter the population size(10,000):  9.0\n",
      "How many times do you want the program to run:  5000\n",
      "Input the learning rate:  0.0001\n",
      "For a population of 9.0, the estimated profit is $[6.96395463]\n"
     ]
    }
   ],
   "source": [
    "estimate()"
   ]
  },
  {
   "cell_type": "code",
   "execution_count": null,
   "metadata": {},
   "outputs": [],
   "source": []
  }
 ],
 "metadata": {
  "kernelspec": {
   "display_name": "Python 3",
   "language": "python",
   "name": "python3"
  },
  "language_info": {
   "codemirror_mode": {
    "name": "ipython",
    "version": 3
   },
   "file_extension": ".py",
   "mimetype": "text/x-python",
   "name": "python",
   "nbconvert_exporter": "python",
   "pygments_lexer": "ipython3",
   "version": "3.7.1"
  }
 },
 "nbformat": 4,
 "nbformat_minor": 2
}
