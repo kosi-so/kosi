{
 "cells": [
  {
   "cell_type": "code",
   "execution_count": 1,
   "metadata": {},
   "outputs": [],
   "source": [
    "import pandas as pd "
   ]
  },
  {
   "cell_type": "code",
   "execution_count": 14,
   "metadata": {},
   "outputs": [],
   "source": [
    "w_and = [-30, 20, 20]\n",
    "w_not = [10, -20]\n",
    "w_or = [-10, 20, 20]\n",
    "X = [(0, 0), (0, 1), (1, 0), (1, 1)]"
   ]
  },
  {
   "cell_type": "markdown",
   "metadata": {},
   "source": [
    "## NOT(X1 AND x2) Perceptron"
   ]
  },
  {
   "cell_type": "code",
   "execution_count": 25,
   "metadata": {},
   "outputs": [
    {
     "name": "stdout",
     "output_type": "stream",
     "text": [
      "[0, 0, 0, 1]\n",
      "Perfect!!! Well Done\n",
      "   X1  X2  a12 correct?\n",
      "0   0   0    1      Yes\n",
      "1   0   1    1      Yes\n",
      "2   1   0    1      Yes\n",
      "3   1   1    0      Yes\n"
     ]
    }
   ],
   "source": [
    "#First the AND perceptron\n",
    "Y_and = [0, 0, 0, 1]\n",
    "Y_not = [1, 1, 1, 0]\n",
    "not_output = []\n",
    "a_and = []\n",
    "for x, y in zip(X, Y_and):\n",
    "    z_and = x[0] *w_and[1] + x[1] * w_and[2] + w_and[0]\n",
    "    a_and.append(int(z_and >= 0))\n",
    "print (a_and)    \n",
    "    \n",
    "#the NOT perceptron\n",
    "    \n",
    "for x, y, z in zip(a_and, Y_not, X):\n",
    "    z_not = x * w_not[1] + w_not[0]\n",
    "    a_not = int(z_not >= 0)\n",
    "    correct_answer = 'Yes' if a_not == y else 'No'\n",
    "    not_output.append([z[0], z[1], a_not, correct_answer])\n",
    "    \n",
    "not_df = pd.DataFrame(not_output, columns = ['X1', 'X2', 'a12', 'correct?'])\n",
    "num_wrong = len([output[3] for output in not_output if output[3] == 'No'])\n",
    "\n",
    "if num_wrong:\n",
    "    print ('Ooops, you got {} wrong, Try Again '.format(num_wrong))\n",
    "    \n",
    "else:\n",
    "    print ('Perfect!!! Well Done')\n",
    "    \n",
    "\n",
    "print (not_df)\n",
    "    \n",
    "    \n"
   ]
  },
  {
   "cell_type": "markdown",
   "metadata": {},
   "source": [
    "## OR Percepton \n",
    "(still in the same layer (2nd Layer) with the NOT perceptron)"
   ]
  },
  {
   "cell_type": "code",
   "execution_count": 27,
   "metadata": {},
   "outputs": [
    {
     "name": "stdout",
     "output_type": "stream",
     "text": [
      "Perfect!!! Well Done\n",
      "   X1  X2  a22 correct?\n",
      "0   0   0    0      Yes\n",
      "1   0   1    1      Yes\n",
      "2   1   0    1      Yes\n",
      "3   1   1    1      Yes\n"
     ]
    }
   ],
   "source": [
    "Y_or = [0, 1, 1, 1]\n",
    "or_output = []\n",
    "\n",
    "for x, y in zip (X, Y_or):\n",
    "    z_or = x[0] * w_or[1] + x[1] * w_or[2] + w_or[0]\n",
    "    a_or = int(z_or >= 0)\n",
    "    correct_answer = 'Yes' if a_or == y else 'No'\n",
    "    or_output.append([x[0], x[1], a_or, correct_answer])\n",
    "    \n",
    "or_df = pd.DataFrame(or_output, columns = ['X1', 'X2', 'a22', 'correct?'])\n",
    "num2_wrong = len([output[3] for output in or_output if output[3] == 'No'])\n",
    "\n",
    "if num2_wrong:\n",
    "    print ('Ooops, you got {} wrong, Try Again '.format(num2_wrong))\n",
    "    \n",
    "else:\n",
    "    print ('Perfect!!! Well Done')\n",
    "    \n",
    "\n",
    "print (or_df)"
   ]
  },
  {
   "cell_type": "markdown",
   "metadata": {},
   "source": [
    "## AND Perceptron (third layer)"
   ]
  },
  {
   "cell_type": "code",
   "execution_count": 32,
   "metadata": {},
   "outputs": [
    {
     "name": "stdout",
     "output_type": "stream",
     "text": [
      "Well Done!!\n",
      "   a_12  a_22  Output Correct?\n",
      "0     1     0       0      Yes\n",
      "1     1     1       1      Yes\n",
      "2     1     1       1      Yes\n",
      "3     0     1       0      Yes\n"
     ]
    }
   ],
   "source": [
    "a12 = not_df['a12']\n",
    "a22 = or_df['a22']\n",
    "\n",
    "and_X = [(a12[0], a22[0]), (a12[1], a22[1]), (a12[2], a22[2]), (a12[3], a22[3])]\n",
    "\n",
    "Y_and = [0, 1, 1, 0]\n",
    "and_output = []\n",
    "\n",
    "for x, y in zip(and_X, Y_and):\n",
    "    z_and =  x[0] *w_and[1] + x[1] * w_and[2] + w_and[0]\n",
    "    a_and = int(z_and >= 0)\n",
    "    correct_answer = 'Yes' if a_and == y else 'No'\n",
    "    and_output.append([x[0], x[1], a_and, correct_answer])\n",
    "    \n",
    "and_df = pd.DataFrame(and_output, columns = ['a_12', 'a_22', 'Output', 'Correct?'])\n",
    "    \n",
    "    \n",
    "num3_wrong = len([output[3] for output in and_output if output[3] == 'No' ])\n",
    "\n",
    "if num3_wrong:\n",
    "    print ('Plese Try Again, {} wrong answers'.format(num3_wrong))\n",
    "    \n",
    "else:\n",
    "    print ('Well Done!!')\n",
    "    \n",
    "print (and_df)"
   ]
  },
  {
   "cell_type": "code",
   "execution_count": 33,
   "metadata": {},
   "outputs": [
    {
     "data": {
      "text/html": [
       "<div>\n",
       "<style scoped>\n",
       "    .dataframe tbody tr th:only-of-type {\n",
       "        vertical-align: middle;\n",
       "    }\n",
       "\n",
       "    .dataframe tbody tr th {\n",
       "        vertical-align: top;\n",
       "    }\n",
       "\n",
       "    .dataframe thead th {\n",
       "        text-align: right;\n",
       "    }\n",
       "</style>\n",
       "<table border=\"1\" class=\"dataframe\">\n",
       "  <thead>\n",
       "    <tr style=\"text-align: right;\">\n",
       "      <th></th>\n",
       "      <th>X1</th>\n",
       "      <th>X2</th>\n",
       "      <th>a_12</th>\n",
       "      <th>a_22</th>\n",
       "      <th>Output</th>\n",
       "      <th>Correct?</th>\n",
       "    </tr>\n",
       "  </thead>\n",
       "  <tbody>\n",
       "    <tr>\n",
       "      <th>0</th>\n",
       "      <td>0</td>\n",
       "      <td>0</td>\n",
       "      <td>1</td>\n",
       "      <td>0</td>\n",
       "      <td>0</td>\n",
       "      <td>Yes</td>\n",
       "    </tr>\n",
       "    <tr>\n",
       "      <th>1</th>\n",
       "      <td>0</td>\n",
       "      <td>1</td>\n",
       "      <td>1</td>\n",
       "      <td>1</td>\n",
       "      <td>1</td>\n",
       "      <td>Yes</td>\n",
       "    </tr>\n",
       "    <tr>\n",
       "      <th>2</th>\n",
       "      <td>1</td>\n",
       "      <td>0</td>\n",
       "      <td>1</td>\n",
       "      <td>1</td>\n",
       "      <td>1</td>\n",
       "      <td>Yes</td>\n",
       "    </tr>\n",
       "    <tr>\n",
       "      <th>3</th>\n",
       "      <td>1</td>\n",
       "      <td>1</td>\n",
       "      <td>0</td>\n",
       "      <td>1</td>\n",
       "      <td>0</td>\n",
       "      <td>Yes</td>\n",
       "    </tr>\n",
       "  </tbody>\n",
       "</table>\n",
       "</div>"
      ],
      "text/plain": [
       "   X1  X2  a_12  a_22  Output Correct?\n",
       "0   0   0     1     0       0      Yes\n",
       "1   0   1     1     1       1      Yes\n",
       "2   1   0     1     1       1      Yes\n",
       "3   1   1     0     1       0      Yes"
      ]
     },
     "execution_count": 33,
     "metadata": {},
     "output_type": "execute_result"
    }
   ],
   "source": [
    "final_df = or_df.drop('a22', axis = 1).drop('correct?', axis = 1).join( and_df )\n",
    "final_df"
   ]
  },
  {
   "cell_type": "code",
   "execution_count": null,
   "metadata": {},
   "outputs": [],
   "source": []
  }
 ],
 "metadata": {
  "kernelspec": {
   "display_name": "Python 3",
   "language": "python",
   "name": "python3"
  },
  "language_info": {
   "codemirror_mode": {
    "name": "ipython",
    "version": 3
   },
   "file_extension": ".py",
   "mimetype": "text/x-python",
   "name": "python",
   "nbconvert_exporter": "python",
   "pygments_lexer": "ipython3",
   "version": "3.7.1"
  }
 },
 "nbformat": 4,
 "nbformat_minor": 2
}
