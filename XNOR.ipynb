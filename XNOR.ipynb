{
 "cells": [
  {
   "cell_type": "code",
   "execution_count": 1,
   "metadata": {},
   "outputs": [],
   "source": [
    "w_and = [-30, 20, 20]\n",
    "w_not = [10, -20, -20]\n",
    "w_or = [-10, 20, 20]\n",
    "test_input = [(0, 0), (0, 1), (1, 0), (1, 1)]"
   ]
  },
  {
   "cell_type": "markdown",
   "metadata": {},
   "source": [
    "## AND GATE"
   ]
  },
  {
   "cell_type": "code",
   "execution_count": 2,
   "metadata": {},
   "outputs": [
    {
     "name": "stdout",
     "output_type": "stream",
     "text": [
      "Well Done!!\n",
      "   Input 1  Input 2  Output Correct?\n",
      "0        0        0       0      Yes\n",
      "1        0        1       0      Yes\n",
      "2        1        0       0      Yes\n",
      "3        1        1       1      Yes\n"
     ]
    }
   ],
   "source": [
    "import pandas as pd\n",
    "Y_and = [0, 0, 0, 1]\n",
    "and_output = []\n",
    "for x, y in zip(test_input, Y_and):\n",
    "    z_and = x[0] *w_and[1] + x[1] * w_and[2] + w_and[0]\n",
    "    a_and = int(z_and >= 0)\n",
    "    correct_answer = 'Yes' if a_and == y else 'No'\n",
    "    and_output.append([x[0], x[1], a_and, correct_answer])\n",
    "    \n",
    "and_df = pd.DataFrame(and_output, columns = ['Input 1', 'Input 2', 'Output', 'Correct?'])\n",
    "    \n",
    "    \n",
    "num_wrong = len([ouput[3] for output in and_output if output[3] == 'No' ])\n",
    "\n",
    "if num_wrong:\n",
    "    print ('Plese Try Again, {} wrong answers'.format(num_wrong))\n",
    "    \n",
    "else:\n",
    "    print ('Well Done!!')\n",
    "    \n",
    "print (and_df)\n",
    "    "
   ]
  },
  {
   "cell_type": "code",
   "execution_count": null,
   "metadata": {},
   "outputs": [],
   "source": []
  },
  {
   "cell_type": "markdown",
   "metadata": {},
   "source": [
    "## NOT GATE"
   ]
  },
  {
   "cell_type": "code",
   "execution_count": 3,
   "metadata": {},
   "outputs": [
    {
     "name": "stdout",
     "output_type": "stream",
     "text": [
      "Well Done!!\n",
      "   Input 1  Input 2  Output Correct?\n",
      "0        0        0       1      Yes\n",
      "1        0        1       0      Yes\n",
      "2        1        0       0      Yes\n",
      "3        1        1       0      Yes\n"
     ]
    }
   ],
   "source": [
    "Y_not = [1, 0, 0, 0]\n",
    "not_output = []\n",
    "for x, y in zip(test_input, Y_not):\n",
    "    z_not =  x[0] *w_not[1] + x[1] * w_not[2] + w_not[0]\n",
    "    a_not = int(z_not >= 0)\n",
    "    correct_answer = 'Yes' if a_not == y else 'No'\n",
    "    not_output.append([x[0], x[1], a_not, correct_answer])\n",
    "    \n",
    "not_df = pd.DataFrame(not_output, columns = ['Input 1', 'Input 2', 'Output', 'Correct?'])\n",
    "    \n",
    "    \n",
    "num2_wrong = len([ouput[3] for output in not_output if output[3] == 'No' ])\n",
    "\n",
    "if num_wrong:\n",
    "    print ('Plese Try Again, {} wrong answers'.format(num2_wrong))\n",
    "    \n",
    "else:\n",
    "    print ('Well Done!!')\n",
    "    \n",
    "print (not_df)"
   ]
  },
  {
   "cell_type": "markdown",
   "metadata": {},
   "source": [
    "## OR GATE\n",
    "Note that this perceptron is on the next layer, therefore input 1 and input 2 will be and_output and not_output respectively "
   ]
  },
  {
   "cell_type": "code",
   "execution_count": 13,
   "metadata": {},
   "outputs": [
    {
     "name": "stdout",
     "output_type": "stream",
     "text": [
      "Well Done!!\n",
      "   a_and  a_not  Output Correct?\n",
      "0      0      1       1      Yes\n",
      "1      0      0       0      Yes\n",
      "2      0      0       0      Yes\n",
      "3      1      0       1      Yes\n"
     ]
    }
   ],
   "source": [
    "input1 = and_df['Output']\n",
    "input2 = not_df['Output']\n",
    "or_input = [(input1[0], input2[0]), (input1[1], input2[1]), (input1[2], input2[2]), \n",
    "            (input1[3], input2[3])]\n",
    "\n",
    "Y_or = [1, 0, 0, 1]\n",
    "or_output = []\n",
    "\n",
    "for x, y in zip(or_input, Y_or):\n",
    "    z_or =  x[0] *w_or[1] + x[1] * w_or[2] + w_or[0]\n",
    "    a_or = int(z_or >= 0)\n",
    "    correct_answer = 'Yes' if a_or == y else 'No'\n",
    "    or_output.append([x[0], x[1], a_or, correct_answer])\n",
    "    \n",
    "or_df = pd.DataFrame(or_output, columns = ['a_and', 'a_not', 'Output', 'Correct?'])\n",
    "    \n",
    "    \n",
    "num3_wrong = len([ouput[3] for output in or_output if output[3] == 'No' ])\n",
    "\n",
    "if num_wrong:\n",
    "    print ('Plese Try Again, {} wrong answers'.format(num3_wrong))\n",
    "    \n",
    "else:\n",
    "    print ('Well Done!!')\n",
    "    \n",
    "print (or_df)"
   ]
  },
  {
   "cell_type": "code",
   "execution_count": 16,
   "metadata": {},
   "outputs": [
    {
     "data": {
      "text/html": [
       "<div>\n",
       "<style scoped>\n",
       "    .dataframe tbody tr th:only-of-type {\n",
       "        vertical-align: middle;\n",
       "    }\n",
       "\n",
       "    .dataframe tbody tr th {\n",
       "        vertical-align: top;\n",
       "    }\n",
       "\n",
       "    .dataframe thead th {\n",
       "        text-align: right;\n",
       "    }\n",
       "</style>\n",
       "<table border=\"1\" class=\"dataframe\">\n",
       "  <thead>\n",
       "    <tr style=\"text-align: right;\">\n",
       "      <th></th>\n",
       "      <th>Input 1</th>\n",
       "      <th>Input 2</th>\n",
       "      <th>a_and</th>\n",
       "      <th>a_not</th>\n",
       "      <th>Output</th>\n",
       "      <th>Correct?</th>\n",
       "    </tr>\n",
       "  </thead>\n",
       "  <tbody>\n",
       "    <tr>\n",
       "      <th>0</th>\n",
       "      <td>0</td>\n",
       "      <td>0</td>\n",
       "      <td>0</td>\n",
       "      <td>1</td>\n",
       "      <td>1</td>\n",
       "      <td>Yes</td>\n",
       "    </tr>\n",
       "    <tr>\n",
       "      <th>1</th>\n",
       "      <td>0</td>\n",
       "      <td>1</td>\n",
       "      <td>0</td>\n",
       "      <td>0</td>\n",
       "      <td>0</td>\n",
       "      <td>Yes</td>\n",
       "    </tr>\n",
       "    <tr>\n",
       "      <th>2</th>\n",
       "      <td>1</td>\n",
       "      <td>0</td>\n",
       "      <td>0</td>\n",
       "      <td>0</td>\n",
       "      <td>0</td>\n",
       "      <td>Yes</td>\n",
       "    </tr>\n",
       "    <tr>\n",
       "      <th>3</th>\n",
       "      <td>1</td>\n",
       "      <td>1</td>\n",
       "      <td>1</td>\n",
       "      <td>0</td>\n",
       "      <td>1</td>\n",
       "      <td>Yes</td>\n",
       "    </tr>\n",
       "  </tbody>\n",
       "</table>\n",
       "</div>"
      ],
      "text/plain": [
       "   Input 1  Input 2  a_and  a_not  Output Correct?\n",
       "0        0        0      0      1       1      Yes\n",
       "1        0        1      0      0       0      Yes\n",
       "2        1        0      0      0       0      Yes\n",
       "3        1        1      1      0       1      Yes"
      ]
     },
     "execution_count": 16,
     "metadata": {},
     "output_type": "execute_result"
    }
   ],
   "source": [
    "final_df = not_df.drop('Output', axis = 1).drop('Correct?', axis = 1).join( or_df )\n",
    "final_df"
   ]
  },
  {
   "cell_type": "code",
   "execution_count": null,
   "metadata": {},
   "outputs": [],
   "source": []
  }
 ],
 "metadata": {
  "kernelspec": {
   "display_name": "Python 3",
   "language": "python",
   "name": "python3"
  },
  "language_info": {
   "codemirror_mode": {
    "name": "ipython",
    "version": 3
   },
   "file_extension": ".py",
   "mimetype": "text/x-python",
   "name": "python",
   "nbconvert_exporter": "python",
   "pygments_lexer": "ipython3",
   "version": "3.7.1"
  }
 },
 "nbformat": 4,
 "nbformat_minor": 2
}
